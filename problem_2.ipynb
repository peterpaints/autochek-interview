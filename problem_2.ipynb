{
 "cells": [
  {
   "cell_type": "markdown",
   "id": "d7965465-fb6c-4e8b-bd9e-0a654bcfc9c1",
   "metadata": {},
   "source": [
    "# Demo for Problem 2"
   ]
  },
  {
   "cell_type": "markdown",
   "id": "af532d60-37b3-4ada-97f2-fa560b48a2a8",
   "metadata": {},
   "source": [
    "#### Prepare Environment\n",
    "\n",
    "**1. Install dotenv**\n",
    "\n",
    "**2. Ensure you populate .env (use examples from .env.sample):**\n",
    "\n",
    "   ```\n",
    "   API_URL=https://xecdapi.xe.com/v1/convert_from/\n",
    "   USERNAME=username\n",
    "   PASSWORD=password\n",
    "   ```"
   ]
  },
  {
   "cell_type": "code",
   "execution_count": 9,
   "id": "9516f636-63c3-4d44-ac1f-0e52ad39afd2",
   "metadata": {},
   "outputs": [],
   "source": [
    "!pip install python-dotenv -q"
   ]
  },
  {
   "cell_type": "markdown",
   "id": "72671f32-f370-4c79-98ea-a7aed55a8d75",
   "metadata": {},
   "source": [
    "### Run the script"
   ]
  },
  {
   "cell_type": "code",
   "execution_count": 7,
   "id": "eae9a9cf-d5d7-4011-9eb8-f8fde0a0e373",
   "metadata": {},
   "outputs": [
    {
     "name": "stdout",
     "output_type": "stream",
     "text": [
      "INFO:root:Starting the data fetch and save process.\n",
      "INFO:root:Database table 'currency_data' created or exists already.\n",
      "INFO:root:Fetching data for currencies ...\n",
      "INFO:root:Data fetched. Inserting into the database.\n",
      "INFO:root:Data insertion complete and database connection closed.\n"
     ]
    }
   ],
   "source": [
    "!python currency_data.py --manual"
   ]
  },
  {
   "cell_type": "markdown",
   "id": "04873cec-27f7-485b-9fda-d9f0c6fa201e",
   "metadata": {},
   "source": [
    "### Inspect the fetched data"
   ]
  },
  {
   "cell_type": "code",
   "execution_count": 8,
   "id": "3e08d556-4ef6-4afd-a9bd-5ee081894676",
   "metadata": {
    "scrolled": true
   },
   "outputs": [
    {
     "data": {
      "text/html": [
       "<div>\n",
       "<style scoped>\n",
       "    .dataframe tbody tr th:only-of-type {\n",
       "        vertical-align: middle;\n",
       "    }\n",
       "\n",
       "    .dataframe tbody tr th {\n",
       "        vertical-align: top;\n",
       "    }\n",
       "\n",
       "    .dataframe thead th {\n",
       "        text-align: right;\n",
       "    }\n",
       "</style>\n",
       "<table border=\"1\" class=\"dataframe\">\n",
       "  <thead>\n",
       "    <tr style=\"text-align: right;\">\n",
       "      <th></th>\n",
       "      <th>timestamp</th>\n",
       "      <th>currency_from</th>\n",
       "      <th>USD_to_currency_rate</th>\n",
       "      <th>currency_to_USD_rate</th>\n",
       "      <th>currency_to</th>\n",
       "    </tr>\n",
       "  </thead>\n",
       "  <tbody>\n",
       "    <tr>\n",
       "      <th>0</th>\n",
       "      <td>2024-01-18T00:00:00Z</td>\n",
       "      <td>USD</td>\n",
       "      <td>859.063508</td>\n",
       "      <td>0.001164</td>\n",
       "      <td>NGN</td>\n",
       "    </tr>\n",
       "    <tr>\n",
       "      <th>1</th>\n",
       "      <td>2024-01-18T00:00:00Z</td>\n",
       "      <td>USD</td>\n",
       "      <td>11.994284</td>\n",
       "      <td>0.083373</td>\n",
       "      <td>GHS</td>\n",
       "    </tr>\n",
       "    <tr>\n",
       "      <th>2</th>\n",
       "      <td>2024-01-18T00:00:00Z</td>\n",
       "      <td>USD</td>\n",
       "      <td>159.542385</td>\n",
       "      <td>0.006268</td>\n",
       "      <td>KES</td>\n",
       "    </tr>\n",
       "    <tr>\n",
       "      <th>3</th>\n",
       "      <td>2024-01-18T00:00:00Z</td>\n",
       "      <td>USD</td>\n",
       "      <td>3811.628546</td>\n",
       "      <td>0.000262</td>\n",
       "      <td>UGX</td>\n",
       "    </tr>\n",
       "    <tr>\n",
       "      <th>4</th>\n",
       "      <td>2024-01-18T00:00:00Z</td>\n",
       "      <td>USD</td>\n",
       "      <td>9.982448</td>\n",
       "      <td>0.100176</td>\n",
       "      <td>MAD</td>\n",
       "    </tr>\n",
       "    <tr>\n",
       "      <th>5</th>\n",
       "      <td>2024-01-18T00:00:00Z</td>\n",
       "      <td>USD</td>\n",
       "      <td>602.614821</td>\n",
       "      <td>0.001659</td>\n",
       "      <td>XOF</td>\n",
       "    </tr>\n",
       "    <tr>\n",
       "      <th>6</th>\n",
       "      <td>2024-01-18T00:00:00Z</td>\n",
       "      <td>USD</td>\n",
       "      <td>30.896437</td>\n",
       "      <td>0.032366</td>\n",
       "      <td>EGP</td>\n",
       "    </tr>\n",
       "  </tbody>\n",
       "</table>\n",
       "</div>"
      ],
      "text/plain": [
       "              timestamp currency_from  USD_to_currency_rate  \\\n",
       "0  2024-01-18T00:00:00Z           USD            859.063508   \n",
       "1  2024-01-18T00:00:00Z           USD             11.994284   \n",
       "2  2024-01-18T00:00:00Z           USD            159.542385   \n",
       "3  2024-01-18T00:00:00Z           USD           3811.628546   \n",
       "4  2024-01-18T00:00:00Z           USD              9.982448   \n",
       "5  2024-01-18T00:00:00Z           USD            602.614821   \n",
       "6  2024-01-18T00:00:00Z           USD             30.896437   \n",
       "\n",
       "   currency_to_USD_rate currency_to  \n",
       "0              0.001164         NGN  \n",
       "1              0.083373         GHS  \n",
       "2              0.006268         KES  \n",
       "3              0.000262         UGX  \n",
       "4              0.100176         MAD  \n",
       "5              0.001659         XOF  \n",
       "6              0.032366         EGP  "
      ]
     },
     "execution_count": 8,
     "metadata": {},
     "output_type": "execute_result"
    }
   ],
   "source": [
    "import sqlite3\n",
    "import pandas as pd\n",
    "\n",
    "connection = sqlite3.connect('currency_data.db')\n",
    "\n",
    "query = 'SELECT * FROM currency_data'\n",
    "results = pd.read_sql_query(query, connection)\n",
    "connection.close()\n",
    "results"
   ]
  },
  {
   "cell_type": "code",
   "execution_count": null,
   "id": "f00eb46b-d8c7-4c1d-bef9-1777d712e03a",
   "metadata": {},
   "outputs": [],
   "source": []
  }
 ],
 "metadata": {
  "kernelspec": {
   "display_name": "Python 3 (ipykernel)",
   "language": "python",
   "name": "python3"
  },
  "language_info": {
   "codemirror_mode": {
    "name": "ipython",
    "version": 3
   },
   "file_extension": ".py",
   "mimetype": "text/x-python",
   "name": "python",
   "nbconvert_exporter": "python",
   "pygments_lexer": "ipython3",
   "version": "3.11.5"
  }
 },
 "nbformat": 4,
 "nbformat_minor": 5
}
